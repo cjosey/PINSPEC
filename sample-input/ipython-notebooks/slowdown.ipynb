{
 "metadata": {
  "name": "slowdown"
 },
 "nbformat": 3,
 "nbformat_minor": 0,
 "worksheets": [
  {
   "cells": [
    {
     "cell_type": "heading",
     "level": 2,
     "metadata": {},
     "source": [
      "Homework 2 - Slowing Down Metrics in H-1"
     ]
    },
    {
     "cell_type": "heading",
     "level": 4,
     "metadata": {},
     "source": [
      "This python script uses PINSPEC to generate results for homework 2 of the 22.211 Introduction to Reactor Physics course taught at MIT by Prof. Kord Smith in spring 2012."
     ]
    },
    {
     "cell_type": "heading",
     "level": 4,
     "metadata": {},
     "source": [
      "First, we import the necessary Python modules to execute this script:"
     ]
    },
    {
     "cell_type": "code",
     "collapsed": false,
     "input": [
      "import numpy\n",
      "from pinspec import *\n",
      "import pinspec.plotter as plotter\n",
      "import pinspec.process as process\n",
      "from pinspec.log import *"
     ],
     "language": "python",
     "metadata": {},
     "outputs": []
    },
    {
     "cell_type": "heading",
     "level": 4,
     "metadata": {},
     "source": [
      "Then, initialize the logging module:"
     ]
    },
    {
     "cell_type": "code",
     "collapsed": false,
     "input": [
      "setOutputDirectory('slowdown');\n",
      "py_setlevel('INFO')"
     ],
     "language": "python",
     "metadata": {},
     "outputs": []
    },
    {
     "cell_type": "heading",
     "level": 4,
     "metadata": {},
     "source": [
      "Initialize the main simulation parameters:"
     ]
    },
    {
     "cell_type": "code",
     "collapsed": false,
     "input": [
      "num_neutrons = 100000"
     ],
     "language": "python",
     "metadata": {},
     "outputs": []
    },
    {
     "cell_type": "heading",
     "level": 4,
     "metadata": {},
     "source": [
      "We create Isotopes:"
     ]
    },
    {
     "cell_type": "code",
     "collapsed": true,
     "input": [
      "py_printf('NORMAL', 'Initializing isotopes...')\n",
      "h1 = Isotope('H-1')\n",
      "c12 = Isotope('C-12')"
     ],
     "language": "python",
     "metadata": {},
     "outputs": []
    },
    {
     "cell_type": "heading",
     "level": 4,
     "metadata": {},
     "source": [
      "Create an artificial capture cross-section for H-1:"
     ]
    },
    {
     "cell_type": "code",
     "collapsed": false,
     "input": [
      "norm_const = 0.025\n",
      "h1_capture_energies = numpy.logspace(-5., 7.5, 500)\n",
      "h1_capture_xs = numpy.sqrt(norm_const/h1_capture_energies) * 7.\n",
      "h1.setCaptureXS(h1_capture_energies, h1_capture_xs)"
     ],
     "language": "python",
     "metadata": {},
     "outputs": []
    },
    {
     "cell_type": "heading",
     "level": 4,
     "metadata": {},
     "source": [
      "Let's plot the microscopic cross-sections for both Isotopes just to see what they look like:"
     ]
    },
    {
     "cell_type": "code",
     "collapsed": false,
     "input": [
      "py_printf('INFO', 'Plotting microscopic cross-sections...')\n",
      "print h1.getIsotopeName(), c12.getIsotopeName()\n",
      "plotter.plotMicroXS(h1, ['capture', 'elastic', 'fission'])\n",
      "plotter.plotMicroXS(c12, ['capture', 'elastic', 'fission'])"
     ],
     "language": "python",
     "metadata": {},
     "outputs": []
    },
    {
     "cell_type": "heading",
     "level": 3,
     "metadata": {},
     "source": [
      "Problem 1 - H-1 Thermal Scattering Distributions"
     ]
    },
    {
     "cell_type": "heading",
     "level": 4,
     "metadata": {},
     "source": [
      "Plot the thermal scattering kernel PDFs and CDFs:"
     ]
    },
    {
     "cell_type": "code",
     "collapsed": false,
     "input": [
      "plotter.plotThermalScattering(h1)"
     ],
     "language": "python",
     "metadata": {},
     "outputs": []
    },
    {
     "cell_type": "heading",
     "level": 3,
     "metadata": {},
     "source": [
      "Problem 2 - C-12 Thermal Scattering Distributions"
     ]
    },
    {
     "cell_type": "heading",
     "level": 4,
     "metadata": {},
     "source": [
      "Plot the thermal scattering kernel PDFs and CDFs:"
     ]
    },
    {
     "cell_type": "code",
     "collapsed": false,
     "input": [
      "plotter.plotThermalScattering(c12)"
     ],
     "language": "python",
     "metadata": {},
     "outputs": []
    },
    {
     "cell_type": "heading",
     "level": 2,
     "metadata": {},
     "source": [
      "Problems 3 - H-1 Slowing Down Flux with Fission Source"
     ]
    },
    {
     "cell_type": "heading",
     "level": 4,
     "metadata": {},
     "source": [
      "Initialize a material filled with the H-1 Isotope:"
     ]
    },
    {
     "cell_type": "code",
     "collapsed": false,
     "input": [
      "h1_material = Material('H-1')\n",
      "h1_material.setDensity(0.07778, 'g/cc')\n",
      "h1_material.addIsotope(h1, 2.0)"
     ],
     "language": "python",
     "metadata": {},
     "outputs": []
    },
    {
     "cell_type": "heading",
     "level": 4,
     "metadata": {},
     "source": [
      "Initialize a flux Tally with equal lethargy bin widths:"
     ]
    },
    {
     "cell_type": "code",
     "collapsed": false,
     "input": [
      "flux = TallyFactory.createTally(h1_material, FLUX)\n",
      "flux.generateBinEdges(1E-2, 1E7, 1000, LOGARITHMIC)"
     ],
     "language": "python",
     "metadata": {},
     "outputs": []
    },
    {
     "cell_type": "heading",
     "level": 4,
     "metadata": {},
     "source": [
      "Create a neutron and a Fisssioner object:"
     ]
    },
    {
     "cell_type": "code",
     "collapsed": false,
     "input": [
      "fissioner = Fissioner()\n",
      "neutron = createNewNeutron()"
     ],
     "language": "python",
     "metadata": {},
     "outputs": []
    },
    {
     "cell_type": "heading",
     "level": 4,
     "metadata": {},
     "source": [
      "Iterate over neutrons and collide them until death in H-1:"
     ]
    },
    {
     "cell_type": "code",
     "collapsed": false,
     "input": [
      "py_printf('INFO', 'Simulating %d neutrons in H-1...', num_neutrons)\n",
      "\n",
      "for i in range(num_neutrons):\n",
      "\n",
      "    # Sample a fission energy from the Watt fission spectrum \n",
      "    neutron._energy = fissioner.emitNeutroneV()\n",
      "    neutron._alive = True\n",
      "    reached_one_ev = False\n",
      "\n",
      "    # Simulate neutron until it is absorbed in H-1\n",
      "    while(neutron._alive):\n",
      "\n",
      "        h1_material.collideNeutron(neutron)\n",
      "        flux.tally(neutron)"
     ],
     "language": "python",
     "metadata": {},
     "outputs": []
    },
    {
     "cell_type": "heading",
     "level": 4,
     "metadata": {},
     "source": [
      "Plot the flux:"
     ]
    },
    {
     "cell_type": "code",
     "collapsed": false,
     "input": [
      "py_printf('INFO', 'Plotting the flux...')\n",
      "plotter.plotFlux(flux, title='H-1 Flux', filename='h-1-flux')"
     ],
     "language": "python",
     "metadata": {},
     "outputs": []
    },
    {
     "cell_type": "heading",
     "level": 2,
     "metadata": {},
     "source": [
      "Problem 4 - Mean # of Collisions to reach 1 eV in H-1"
     ]
    },
    {
     "cell_type": "heading",
     "level": 4,
     "metadata": {},
     "source": [
      "Create a collision rate Tally with a single bin:"
     ]
    },
    {
     "cell_type": "code",
     "collapsed": false,
     "input": [
      "coll_rate = TallyFactory.createTally(h1_material, COLLISION_RATE)\n",
      "coll_rate.generateBinEdges(1E-1, 2E6, 1, EQUAL)"
     ],
     "language": "python",
     "metadata": {},
     "outputs": []
    },
    {
     "cell_type": "heading",
     "level": 4,
     "metadata": {},
     "source": [
      "Iterate over neutrons and collide them until death in H-1, tallying collisions at energies >1eV:"
     ]
    },
    {
     "cell_type": "code",
     "collapsed": false,
     "input": [
      "py_printf('INFO', 'Simulating %d neutrons in H-1...', num_neutrons)\n",
      "\n",
      "for i in range(num_neutrons):\n",
      "\n",
      "    # Sample a fission energy from the Watt fission spectrum \n",
      "    neutron._energy = fissioner.emitNeutroneV()\n",
      "    neutron._alive = True\n",
      "    reached_one_ev = False\n",
      "\n",
      "    # Simulate neutron until it is absorbed in H-1\n",
      "    while(neutron._alive):\n",
      "\n",
      "        h1_material.collideNeutron(neutron)\n",
      "\n",
      "        if neutron._energy < 1.0:\n",
      "            reached_one_ev = True\n",
      "\n",
      "        if not reached_one_ev:\n",
      "            coll_rate.tally(neutron)"
     ],
     "language": "python",
     "metadata": {},
     "outputs": []
    },
    {
     "cell_type": "heading",
     "level": 4,
     "metadata": {},
     "source": [
      "Report the mean # of collisions to reach 1 eV:"
     ]
    },
    {
     "cell_type": "code",
     "collapsed": false,
     "input": [
      "num_collisions = process.computeMeanNumCollisions(coll_rate, num_neutrons)\n",
      "py_printf('RESULT', 'Mean # of collisions to 1 eV: %f', num_collisions)"
     ],
     "language": "python",
     "metadata": {},
     "outputs": []
    },
    {
     "cell_type": "heading",
     "level": 2,
     "metadata": {},
     "source": [
      "Problem 5 - Mean # of Collisions to Death in H-1"
     ]
    },
    {
     "cell_type": "heading",
     "level": 2,
     "metadata": {},
     "source": [
      "Create a collision rate tally with a single bin:"
     ]
    },
    {
     "cell_type": "heading",
     "level": 4,
     "metadata": {},
     "source": [
      "Iterate over neutrons and collide them until death in H-1, tallying collisions at all energies:"
     ]
    },
    {
     "cell_type": "code",
     "collapsed": false,
     "input": [
      "py_printf('INFO', 'Simulating %d neutrons in H-1...', num_neutrons)\n",
      "\n",
      "for i in range(num_neutrons):\n",
      "\n",
      "    # Sample a fission energy from the Watt fission spectrum \n",
      "    neutron._energy = fissioner.emitNeutroneV()\n",
      "    neutron._alive = True\n",
      "    reached_one_ev = False\n",
      "\n",
      "    # Simulate neutron until it is absorbed in H-1\n",
      "    while(neutron._alive):\n",
      "\n",
      "        h1_material.collideNeutron(neutron)\n",
      "\n",
      "        if neutron._energy < 1.0:\n",
      "            reached_one_ev = True\n",
      "\n",
      "        if not reached_one_ev:\n",
      "            coll_rate.tally(neutron)"
     ],
     "language": "python",
     "metadata": {},
     "outputs": []
    },
    {
     "cell_type": "heading",
     "level": 4,
     "metadata": {},
     "source": [
      "Report the mean # of collisions to death:"
     ]
    },
    {
     "cell_type": "code",
     "collapsed": false,
     "input": [
      "num_collisions = process.computeMeanNumCollisions(coll_rate, num_neutrons)\n",
      "py_printf('RESULT', 'Mean # of collisions to death: %f', num_collisions)"
     ],
     "language": "python",
     "metadata": {},
     "outputs": []
    },
    {
     "cell_type": "heading",
     "level": 2,
     "metadata": {},
     "source": [
      "Problem 6 - Mean Neutron Lifetime in H-1"
     ]
    },
    {
     "cell_type": "heading",
     "level": 4,
     "metadata": {},
     "source": [
      "Create an intercollision time Tally with a single bin:"
     ]
    },
    {
     "cell_type": "code",
     "collapsed": false,
     "input": [
      "times = TallyFactory.createTally(h1_material, INTERCOLLISION_TIME)\n",
      "times.generateBinEdges(1E-7, 2E6, 1, EQUAL)"
     ],
     "language": "python",
     "metadata": {},
     "outputs": []
    },
    {
     "cell_type": "heading",
     "level": 4,
     "metadata": {},
     "source": [
      "Iterate over neutrons and collide them until death in H-1, tallying intercollision times at all energies:"
     ]
    },
    {
     "cell_type": "code",
     "collapsed": false,
     "input": [
      "for i in range(num_neutrons):\n",
      "\n",
      "    # Sample a fission energy from the Watt fission spectrum \n",
      "    neutron._energy = fissioner.emitNeutroneV()\n",
      "    neutron._alive = True\n",
      "    reached_one_ev = False\n",
      "\n",
      "    # Simulate neutron until it is absorbed in H-1\n",
      "    while(neutron._alive):\n",
      "\n",
      "        h1_material.collideNeutron(neutron)\n",
      "        times.tally(neutron)"
     ],
     "language": "python",
     "metadata": {},
     "outputs": []
    },
    {
     "cell_type": "code",
     "collapsed": false,
     "input": [
      "mean_lifetime = process.computeMeanNeutronLifetime(times, num_neutrons)\n",
      "py_printf('RESULT', 'Mean neutron lifetime: %1.2E seconds', mean_lifetime)"
     ],
     "language": "python",
     "metadata": {},
     "outputs": []
    }
   ],
   "metadata": {}
  }
 ]
}