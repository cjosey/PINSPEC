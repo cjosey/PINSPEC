{
 "metadata": {
  "name": ""
 },
 "nbformat": 3,
 "nbformat_minor": 0,
 "worksheets": [
  {
   "cells": [
    {
     "cell_type": "heading",
     "level": 2,
     "metadata": {},
     "source": [
      "Infinite Medium PWR Spectral Calculation"
     ]
    },
    {
     "cell_type": "heading",
     "level": 3,
     "metadata": {},
     "source": [
      "This python script uses PINSPEC to generate a flux for an arbitrary infinite medium, containing the predominant isotopes found in a PWR."
     ]
    },
    {
     "cell_type": "heading",
     "level": 4,
     "metadata": {},
     "source": [
      "First, we import the necessary Python modules to execute this script:"
     ]
    },
    {
     "cell_type": "code",
     "collapsed": false,
     "input": [
      "import numpy\n",
      "from pinspec import *\n",
      "import pinspec.plotter as plotter\n",
      "from pinspec.log import *"
     ],
     "language": "python",
     "metadata": {},
     "outputs": []
    },
    {
     "cell_type": "heading",
     "level": 4,
     "metadata": {},
     "source": [
      "Then we initialize the logging module:"
     ]
    },
    {
     "cell_type": "code",
     "collapsed": false,
     "input": [
      "set_output_directory('infinite')\n",
      "py_set_log_level('INFO')"
     ],
     "language": "python",
     "metadata": {},
     "outputs": [
      {
       "output_type": "stream",
       "stream": "stdout",
       "text": [
        "[  INFO   ]  Logging level set to INFO\n"
       ]
      }
     ]
    },
    {
     "cell_type": "heading",
     "level": 4,
     "metadata": {},
     "source": [
      "We create Isotopes:"
     ]
    },
    {
     "cell_type": "code",
     "collapsed": false,
     "input": [
      "py_printf('NORMAL', 'Initializing isotopes...')\n",
      "\n",
      "h1 = Isotope('H-1')\n",
      "b10 = Isotope('B-10')\n",
      "o16 = Isotope('O-16')\n",
      "u235 = Isotope('U-235')\n",
      "u238 = Isotope('U-238')\n",
      "zr90 = Isotope('Zr-90')"
     ],
     "language": "python",
     "metadata": {},
     "outputs": [
      {
       "output_type": "stream",
       "stream": "stdout",
       "text": [
        "[  NORMAL ]  Initializing isotopes...\n",
        "[  INFO   ]  Loading isotope H-1\n",
        "[  INFO   ]  Loading H-1-elastic.txt for isotope H-1\n",
        "[  INFO   ]  Loading H-1-capture.txt for isotope H-1\n",
        "[  INFO   ]  Loading isotope B-10\n"
       ]
      },
      {
       "output_type": "stream",
       "stream": "stdout",
       "text": [
        "[  INFO   ]  Loading B-10-elastic.txt for isotope B-10\n",
        "[  INFO   ]  Loading B-10-capture.txt for isotope B-10\n",
        "[  INFO   ]  Loading isotope O-16\n"
       ]
      },
      {
       "output_type": "stream",
       "stream": "stdout",
       "text": [
        "[  INFO   ]  Loading O-16-elastic.txt for isotope O-16\n",
        "[  INFO   ]  Loading O-16-capture.txt for isotope O-16\n",
        "[  INFO   ]  Loading isotope U-235\n"
       ]
      },
      {
       "output_type": "stream",
       "stream": "stdout",
       "text": [
        "[  INFO   ]  Loading U-235-elastic.txt for isotope U-235\n",
        "[  INFO   ]  Loading U-235-capture.txt for isotope U-235\n",
        "[  INFO   ]  Loading U-235-fission.txt for isotope U-235\n",
        "[  INFO   ]  Loading isotope U-238\n"
       ]
      },
      {
       "output_type": "stream",
       "stream": "stdout",
       "text": [
        "[  INFO   ]  Loading U-238-elastic.txt for isotope U-238\n",
        "[  INFO   ]  Loading U-238-capture.txt for isotope U-238\n",
        "[  INFO   ]  Loading U-238-fission.txt for isotope U-238\n",
        "[  INFO   ]  Loading isotope Zr-90\n"
       ]
      },
      {
       "output_type": "stream",
       "stream": "stdout",
       "text": [
        "[  INFO   ]  Loading Zr-90-elastic.txt for isotope Zr-90\n",
        "[  INFO   ]  Loading Zr-90-capture.txt for isotope Zr-90\n"
       ]
      }
     ]
    },
    {
     "cell_type": "heading",
     "level": 4,
     "metadata": {},
     "source": [
      "We create a Material composed of Isotopes:"
     ]
    },
    {
     "cell_type": "code",
     "collapsed": false,
     "input": [
      "py_printf('NORMAL', 'Initializing infinite medium material...')\n",
      "mix = Material('Fuel Moderator Mix')\n",
      "mix.setDensity(5., 'g/cc')\n",
      "mix.addIsotope(b10, .0000001)\n",
      "mix.addIsotope(o16, 1.0)\n",
      "mix.addIsotope(h1, 1.0)\n",
      "mix.addIsotope(u238, 0.01)\n",
      "mix.addIsotope(u235, .0025)\n",
      "mix.addIsotope(zr90, .16)"
     ],
     "language": "python",
     "metadata": {},
     "outputs": [
      {
       "output_type": "stream",
       "stream": "stdout",
       "text": [
        "[  NORMAL ]  Initializing infinite medium material...\n",
        "[  INFO   ]  Isotope B-10 has number density 3.011E+23 in material Fuel\n",
        "[  INFO   ]  ... Moderator Mix\n",
        "[  INFO   ]  Isotope O-16 has number density 1.882E+23 in material Fuel\n",
        "[  INFO   ]  ... Moderator Mix\n",
        "[  INFO   ]  Isotope B-10 has number density 1.882E+16 in material Fuel\n",
        "[  INFO   ]  ... Moderator Mix\n",
        "[  INFO   ]  Isotope H-1 has number density 1.771E+23 in material Fuel\n",
        "[  INFO   ]  ... Moderator Mix\n",
        "[  INFO   ]  Isotope O-16 has number density 1.771E+23 in material Fuel\n",
        "[  INFO   ]  ... Moderator Mix\n",
        "[  INFO   ]  Isotope B-10 has number density 1.771E+16 in material Fuel\n",
        "[  INFO   ]  ... Moderator Mix\n",
        "[  INFO   ]  Isotope H-1 has number density 1.554E+23 in material Fuel\n",
        "[  INFO   ]  ... Moderator Mix\n",
        "[  INFO   ]  Isotope U-238 has number density 1.554E+21 in material Fuel\n",
        "[  INFO   ]  ... Moderator Mix\n",
        "[  INFO   ]  Isotope O-16 has number density 1.554E+23 in material Fuel\n",
        "[  INFO   ]  ... Moderator Mix\n",
        "[  INFO   ]  Isotope B-10 has number density 1.554E+16 in material Fuel\n",
        "[  INFO   ]  ... Moderator Mix\n",
        "[  INFO   ]  Isotope H-1 has number density 1.508E+23 in material Fuel\n",
        "[  INFO   ]  ... Moderator Mix\n",
        "[  INFO   ]  Isotope U-235 has number density 3.771E+20 in material Fuel\n",
        "[  INFO   ]  ... Moderator Mix\n",
        "[  INFO   ]  Isotope U-238 has number density 1.508E+21 in material Fuel\n",
        "[  INFO   ]  ... Moderator Mix\n",
        "[  INFO   ]  Isotope O-16 has number density 1.508E+23 in material Fuel\n",
        "[  INFO   ]  ... Moderator Mix\n",
        "[  INFO   ]  Isotope B-10 has number density 1.508E+16 in material Fuel\n",
        "[  INFO   ]  ... Moderator Mix\n",
        "[  INFO   ]  Isotope H-1 has number density 8.763E+22 in material Fuel\n",
        "[  INFO   ]  ... Moderator Mix\n",
        "[  INFO   ]  Isotope U-235 has number density 2.191E+20 in material Fuel\n",
        "[  INFO   ]  ... Moderator Mix\n",
        "[  INFO   ]  Isotope U-238 has number density 8.763E+20 in material Fuel\n",
        "[  INFO   ]  ... Moderator Mix\n",
        "[  INFO   ]  Isotope O-16 has number density 8.763E+22 in material Fuel\n",
        "[  INFO   ]  ... Moderator Mix\n",
        "[  INFO   ]  Isotope Zr-90 has number density 1.402E+22 in material Fuel\n",
        "[  INFO   ]  ... Moderator Mix\n",
        "[  INFO   ]  Isotope B-10 has number density 8.763E+15 in material Fuel\n",
        "[  INFO   ]  ... Moderator Mix\n"
       ]
      }
     ]
    },
    {
     "cell_type": "heading",
     "level": 4,
     "metadata": {},
     "source": [
      "We create an infinite medium Region filled by the Material:"
     ]
    },
    {
     "cell_type": "code",
     "collapsed": false,
     "input": [
      "py_printf('NORMAL', 'Initializing infnite medium region...')\n",
      "region_mix = InfiniteMediumRegion('infinite medium')\n",
      "region_mix.setMaterial(mix)"
     ],
     "language": "python",
     "metadata": {},
     "outputs": [
      {
       "output_type": "stream",
       "stream": "stdout",
       "text": [
        "[  NORMAL ]  Initializing infnite medium region...\n"
       ]
      }
     ]
    },
    {
     "cell_type": "heading",
     "level": 4,
     "metadata": {},
     "source": [
      "We create the Geometry which is filled by the infinite medium Region:"
     ]
    },
    {
     "cell_type": "code",
     "collapsed": false,
     "input": [
      "py_printf('NORMAL', 'Initializing the geometry...')\n",
      "geometry = Geometry(INFINITE_HOMOGENEOUS)\n",
      "geometry.addRegion(region_mix)"
     ],
     "language": "python",
     "metadata": {},
     "outputs": [
      {
       "output_type": "stream",
       "stream": "stdout",
       "text": [
        "[  NORMAL ]  Initializing the geometry...\n"
       ]
      }
     ]
    },
    {
     "cell_type": "heading",
     "level": 4,
     "metadata": {},
     "source": [
      "We create a Tally for the flux and register it with the TallyBank:"
     ]
    },
    {
     "cell_type": "code",
     "collapsed": false,
     "input": [
      "py_printf('NORMAL', 'Initializing flux tally...')\n",
      "flux = TallyFactory.createTally(region_mix, FLUX, 'flux')\n",
      "flux.generateBinEdges(1E-2, 1E7, 1000, LOGARITHMIC)\n",
      "TallyBank.registerTally(flux)"
     ],
     "language": "python",
     "metadata": {},
     "outputs": [
      {
       "output_type": "stream",
       "stream": "stdout",
       "text": [
        "[  NORMAL ]  Initializing flux tally...\n",
        "[  INFO   ]  Registered tally flux with the TallyBank for region infinite medium\n"
       ]
      }
     ]
    },
    {
     "cell_type": "heading",
     "level": 4,
     "metadata": {},
     "source": [
      "Run the Monte Carlo simulation with the default number of batches (10), neutrons per batch (10,000), etc:"
     ]
    },
    {
     "cell_type": "code",
     "collapsed": false,
     "input": [
      "geometry.runMonteCarloSimulation()"
     ],
     "language": "python",
     "metadata": {},
     "outputs": [
      {
       "output_type": "stream",
       "stream": "stdout",
       "text": [
        "[  INFO   ]  TallyBank has initialized 1 tallies for 10 batches\n",
        "[  TITLE  ]  *******************************************************************\n",
        "[  TITLE  ]              Beginning PINSPEC Monte Carlo Simulation...            \n",
        "[  TITLE  ]  *******************************************************************\n",
        "[  NORMAL ]  # neutrons / batch = 10000     # batches = 10     # threads = 1\n",
        "[SEPARATOR]  *******************************************************************\n",
        "[  INFO   ]  Thread 1/1 running batch 0\n",
        "[  INFO   ]  Thread 1/1 running batch 1\n"
       ]
      },
      {
       "output_type": "stream",
       "stream": "stdout",
       "text": [
        "[  INFO   ]  Thread 1/1 running batch 2\n",
        "[  INFO   ]  Thread 1/1 running batch 3\n"
       ]
      },
      {
       "output_type": "stream",
       "stream": "stdout",
       "text": [
        "[  INFO   ]  Thread 1/1 running batch 4\n",
        "[  INFO   ]  Thread 1/1 running batch 5\n"
       ]
      },
      {
       "output_type": "stream",
       "stream": "stdout",
       "text": [
        "[  INFO   ]  Thread 1/1 running batch 6\n",
        "[  INFO   ]  Thread 1/1 running batch 7\n"
       ]
      },
      {
       "output_type": "stream",
       "stream": "stdout",
       "text": [
        "[  INFO   ]  Thread 1/1 running batch 8\n",
        "[  INFO   ]  Thread 1/1 running batch 9\n"
       ]
      },
      {
       "output_type": "stream",
       "stream": "stdout",
       "text": [
        "[  NORMAL ]  PINSPEC simulated 10828 neutrons / sec in 9.235688 sec\n"
       ]
      }
     ]
    },
    {
     "cell_type": "heading",
     "level": 4,
     "metadata": {},
     "source": [
      "Next, we plot the flux Tally:"
     ]
    },
    {
     "cell_type": "code",
     "collapsed": false,
     "input": [
      "py_printf('INFO', 'Plotting flux...')\n",
      "plotter.plotFlux(flux, uselegend=False, filename='flux', title='Infinite medium flux')"
     ],
     "language": "python",
     "metadata": {},
     "outputs": []
    },
    {
     "cell_type": "heading",
     "level": 4,
     "metadata": {},
     "source": [
      "Export the batch statistics for the flux Tally to a file:"
     ]
    },
    {
     "cell_type": "code",
     "collapsed": false,
     "input": [
      "py_printf('INFO', 'Writing tally batch statistics to output file...')\n",
      "TallyBank.outputBatchStatistics()"
     ],
     "language": "python",
     "metadata": {},
     "outputs": []
    }
   ],
   "metadata": {}
  }
 ]
}