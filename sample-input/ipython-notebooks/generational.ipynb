{
 "metadata": {
  "name": "generational"
 },
 "nbformat": 3,
 "nbformat_minor": 0,
 "worksheets": [
  {
   "cells": [
    {
     "cell_type": "heading",
     "level": 2,
     "metadata": {},
     "source": [
      "Homework 1 - Generational Fluxes"
     ]
    },
    {
     "cell_type": "heading",
     "level": 3,
     "metadata": {},
     "source": [
      "This python script uses PINSPEC to generate results for homework 1 of the 22.211 Introduction to Reactor Physics course taught at MIT by Prof. Kord Smith in spring 2012."
     ]
    },
    {
     "cell_type": "heading",
     "level": 4,
     "metadata": {},
     "source": [
      "First, we import the necessary Python modules to execute this script:"
     ]
    },
    {
     "cell_type": "code",
     "collapsed": false,
     "input": [
      "import numpy\n",
      "from pinspec import *\n",
      "import pinspec.plotter as plotter\n",
      "from pinspec.log import *"
     ],
     "language": "python",
     "metadata": {},
     "outputs": []
    },
    {
     "cell_type": "heading",
     "level": 4,
     "metadata": {},
     "source": [
      "Then, initialize the logging module:"
     ]
    },
    {
     "cell_type": "code",
     "collapsed": false,
     "input": [
      "setOutputDirectory('generational');\n",
      "py_setlevel('INFO')"
     ],
     "language": "python",
     "metadata": {},
     "outputs": []
    },
    {
     "cell_type": "heading",
     "level": 4,
     "metadata": {},
     "source": [
      "We create Isotopes:"
     ]
    },
    {
     "cell_type": "code",
     "collapsed": false,
     "input": [
      "py_printf('NORMAL', 'Initializing isotopes...')\n",
      "h1 = Isotope('H-1')\n",
      "c12 = Isotope('C-12')"
     ],
     "language": "python",
     "metadata": {},
     "outputs": []
    },
    {
     "cell_type": "heading",
     "level": 4,
     "metadata": {},
     "source": [
      "Then, zero out the capture cross-sections for each Isotope:"
     ]
    },
    {
     "cell_type": "code",
     "collapsed": false,
     "input": [
      "energy = numpy.array([1E-7, 2e7])\t# energy bounds\n",
      "xs = numpy.array([0.0])\t          # one group xs\n",
      "\n",
      "h1.setMultigroupCaptureXS(energy, xs)\n",
      "c12.setMultigroupCaptureXS(energy, xs)"
     ],
     "language": "python",
     "metadata": {},
     "outputs": []
    },
    {
     "cell_type": "heading",
     "level": 4,
     "metadata": {},
     "source": [
      "Now, we will \"turn off\" thermal scattering for both Isotopes (which is simulated by default):"
     ]
    },
    {
     "cell_type": "code",
     "collapsed": false,
     "input": [
      "h1.neglectThermalScattering()\n",
      "c12.neglectThermalScattering()"
     ],
     "language": "python",
     "metadata": {},
     "outputs": []
    },
    {
     "cell_type": "heading",
     "level": 4,
     "metadata": {},
     "source": [
      "Let's plot the microscopic cross-sections for both Isotopes just to see what they look like:"
     ]
    },
    {
     "cell_type": "code",
     "collapsed": false,
     "input": [
      "py_printf('INFO', 'Plotting microscopic cross-sections...')\n",
      "plotter.plotMicroXS(h1, ['capture', 'elastic', 'fission'])\n",
      "plotter.plotMicroXS(c12, ['capture', 'elastic', 'fission'])"
     ],
     "language": "python",
     "metadata": {},
     "outputs": []
    },
    {
     "cell_type": "heading",
     "level": 3,
     "metadata": {},
     "source": [
      "Problem 1 - H-1 Generational Slowing Down Fluxes from a Mono-energetic Source"
     ]
    },
    {
     "cell_type": "heading",
     "level": 4,
     "metadata": {},
     "source": [
      "Next, set main simulation paramaters:"
     ]
    },
    {
     "cell_type": "code",
     "collapsed": false,
     "input": [
      "num_neutrons = 100000\n",
      "num_generations = 15\n",
      "max_energy = 2E6        # neutrons are born at this energy (eV)"
     ],
     "language": "python",
     "metadata": {},
     "outputs": []
    },
    {
     "cell_type": "heading",
     "level": 4,
     "metadata": {},
     "source": [
      "Create flux Tallies for each generation in a Python list:"
     ]
    },
    {
     "cell_type": "code",
     "collapsed": false,
     "input": [
      "h1_fluxes = []\n",
      "\n",
      "for i in range(num_generations):\n",
      "\n",
      "    h1_fluxes.append(TallyFactory.createTally(h1, COLLISION_RATE))\n",
      "    h1_fluxes[i].generateBinEdges(0., 2E6, 1000, EQUAL)"
     ],
     "language": "python",
     "metadata": {},
     "outputs": []
    },
    {
     "cell_type": "heading",
     "level": 4,
     "metadata": {},
     "source": [
      "Run a simulation by iterating over each generation and colliding each neutron a single time:"
     ]
    },
    {
     "cell_type": "code",
     "collapsed": false,
     "input": [
      "py_printf('INFO', 'Simulating generational flux from H-1...')\n",
      "py_printf('INFO', '# neutrons = %d\\t\\t# generations = %d', num_neutrons, num_generations)\n",
      "\n",
      "neutron = createNewNeutron()\n",
      "\n",
      "for i in range(num_neutrons):\n",
      "\n",
      "    neutron._energy = max_energy\t# initialize energy to 2 MeV\n",
      "\n",
      "    for j in range(num_generations):\n",
      "        h1.collideNeutron(neutron)\n",
      "        h1_fluxes[j].tally(neutron)"
     ],
     "language": "python",
     "metadata": {},
     "outputs": []
    },
    {
     "cell_type": "heading",
     "level": 4,
     "metadata": {},
     "source": [
      "Plot the generational fluxes - note that H-1 results in fast moderation:"
     ]
    },
    {
     "cell_type": "code",
     "collapsed": false,
     "input": [
      "py_printf('INFO', 'Plotting the generational fluxes...')\n",
      "\n",
      "plotter.plotFlux(h1_fluxes[1:], loglog=False, uselegend=False, filename='h1-generational-flux', title='H1 Generational Flux')"
     ],
     "language": "python",
     "metadata": {},
     "outputs": []
    },
    {
     "cell_type": "heading",
     "level": 3,
     "metadata": {},
     "source": [
      "Problem 2 - C-12 Generational Slowing Down Fluxes from a Mono-energetic Source"
     ]
    },
    {
     "cell_type": "heading",
     "level": 4,
     "metadata": {},
     "source": [
      "Create flux Tallies for each generation in a Python list"
     ]
    },
    {
     "cell_type": "code",
     "collapsed": false,
     "input": [
      "c12_fluxes = []\n",
      "\n",
      "for i in range(num_generations):\n",
      "\n",
      "    c12_fluxes.append(TallyFactory.createTally(h1, COLLISION_RATE))\n",
      "    c12_fluxes[i].generateBinEdges(1E3, 2E6, 1000, EQUAL)"
     ],
     "language": "python",
     "metadata": {},
     "outputs": []
    },
    {
     "cell_type": "heading",
     "level": 4,
     "metadata": {},
     "source": [
      "Run a simulation by iterating over each generation and colliding each neutron a single time:"
     ]
    },
    {
     "cell_type": "code",
     "collapsed": false,
     "input": [
      "py_printf('INFO', 'Simulating generational flux from C-12...')\n",
      "py_printf('INFO', '# neutrons = %d\\t\\t# generations = %d', num_neutrons, num_generations)\n",
      "\n",
      "for i in range(num_neutrons):\n",
      "\n",
      "    neutron._energy = max_energy\t# initialize energy to 2 MeV\n",
      "\n",
      "    for j in range(num_generations):\n",
      "        c12.collideNeutron(neutron)\n",
      "        c12_fluxes[j].tally(neutron)"
     ],
     "language": "python",
     "metadata": {},
     "outputs": []
    },
    {
     "cell_type": "heading",
     "level": 4,
     "metadata": {},
     "source": [
      "Plot the generational fluxes - note that C-12 results in slower moderation than H-1"
     ]
    },
    {
     "cell_type": "code",
     "collapsed": false,
     "input": [
      "py_printf('INFO', 'Plotting the generational fluxes...')\n",
      "\n",
      "plotter.plotFlux(c12_fluxes[1:], loglog=False, uselegend=False, filename='c12-generational-flux', title='C12 Generational Flux')"
     ],
     "language": "python",
     "metadata": {},
     "outputs": []
    },
    {
     "cell_type": "heading",
     "level": 3,
     "metadata": {},
     "source": [
      "Problem 3 - C-12 Slowing Down Lethargy Flux from a Mono-energetic Source"
     ]
    },
    {
     "cell_type": "heading",
     "level": 4,
     "metadata": {},
     "source": [
      "Next, set main simulation paramaters:"
     ]
    },
    {
     "cell_type": "code",
     "collapsed": false,
     "input": [
      "num_neutrons = 10000\n",
      "num_generations = 50\n",
      "max_energy = 2E6       # neutrons are born at this energy (eV)"
     ],
     "language": "python",
     "metadata": {},
     "outputs": []
    },
    {
     "cell_type": "heading",
     "level": 4,
     "metadata": {},
     "source": [
      "Create flux Tally with equal lethargy bin widths:"
     ]
    },
    {
     "cell_type": "code",
     "collapsed": false,
     "input": [
      "lethargy_flux = TallyFactory.createTally(c12, COLLISION_RATE)\n",
      "lethargy_flux.generateBinEdges(1E2, 2E6, 5000, LOGARITHMIC)"
     ],
     "language": "python",
     "metadata": {},
     "outputs": []
    },
    {
     "cell_type": "heading",
     "level": 4,
     "metadata": {},
     "source": [
      "Run a simulation by iterating over each generation and colliding each neutron a single time:"
     ]
    },
    {
     "cell_type": "code",
     "collapsed": false,
     "input": [
      "neutron = createNewNeutron()\n",
      "\n",
      "py_printf('INFO', 'Simulating lethargy flux from C-12...')\n",
      "py_printf('INFO', '# neutrons = %d\\t\\t# generations = %d', num_neutrons, num_generations)\n",
      "for i in range(num_neutrons):\t\n",
      "    neutron._energy = max_energy\t# initialize energy to 2 MeV\n",
      "\n",
      "    for j in range(num_generations):\n",
      "        c12.collideNeutron(neutron)\n",
      "\n",
      "        if (j > 0):\n",
      "            lethargy_flux.tally(neutron)"
     ],
     "language": "python",
     "metadata": {},
     "outputs": []
    },
    {
     "cell_type": "heading",
     "level": 4,
     "metadata": {},
     "source": [
      "Plot the slowing down flux:"
     ]
    },
    {
     "cell_type": "code",
     "collapsed": false,
     "input": [
      "py_printf('INFO', 'Plotting the lethargy flux...')\n",
      "\n",
      "plotter.plotFlux(lethargy_flux, filename='lethargy-flux', title='C12 Lethargy Flux From Mono-energetic Source')"
     ],
     "language": "python",
     "metadata": {},
     "outputs": []
    },
    {
     "cell_type": "heading",
     "level": 3,
     "metadata": {},
     "source": [
      "Problem 4 - C-12 Slowing Down Energy Flux from a Mono-energetic Source"
     ]
    },
    {
     "cell_type": "heading",
     "level": 4,
     "metadata": {},
     "source": [
      "Create flux Tally with equal energy bin widths:"
     ]
    },
    {
     "cell_type": "code",
     "collapsed": false,
     "input": [
      "energy_flux = TallyFactory.createTally(c12, COLLISION_RATE)\n",
      "energy_flux.generateBinEdges(1E2, 2E6, 5000, EQUAL)"
     ],
     "language": "python",
     "metadata": {},
     "outputs": []
    },
    {
     "cell_type": "code",
     "collapsed": false,
     "input": [
      "neutron = createNewNeutron()\n",
      "\n",
      "py_printf('INFO', 'Simulating energy flux from C-12...')\n",
      "py_printf('INFO', '# neutrons = %d\\t\\t# generations = %d', num_neutrons, num_generations)\n",
      "for i in range(num_neutrons):\t\n",
      "    neutron._energy = max_energy\t# initialize energy to 2 MeV\n",
      "\n",
      "    for j in range(num_generations):\n",
      "        c12.collideNeutron(neutron)\n",
      "\n",
      "        if (j > 0):\n",
      "            energy_flux.tally(neutron)"
     ],
     "language": "python",
     "metadata": {},
     "outputs": []
    },
    {
     "cell_type": "heading",
     "level": 4,
     "metadata": {},
     "source": [
      "Plot the slowing down flux:"
     ]
    },
    {
     "cell_type": "code",
     "collapsed": false,
     "input": [
      "py_printf('INFO', 'Plotting the energy flux...')\n",
      "\n",
      "plotter.plotFlux(energy_flux, filename='energy-flux', title='C12 Energy Flux From Mono-energetic Source')"
     ],
     "language": "python",
     "metadata": {},
     "outputs": []
    },
    {
     "cell_type": "heading",
     "level": 3,
     "metadata": {},
     "source": [
      "Problem 5 - H-1 Slowing Down Lethargy Flux from a Fission Source"
     ]
    },
    {
     "cell_type": "heading",
     "level": 4,
     "metadata": {},
     "source": [
      "Next, set main simulation paramaters:"
     ]
    },
    {
     "cell_type": "code",
     "collapsed": false,
     "input": [
      "num_neutrons = 10000\n",
      "num_generations = 15\n",
      "max_energy = 2E6       # neutrons are born at this energy (eV)"
     ],
     "language": "python",
     "metadata": {},
     "outputs": []
    },
    {
     "cell_type": "heading",
     "level": 4,
     "metadata": {},
     "source": [
      "Initialize a material filled with the H-1 Isotope:"
     ]
    },
    {
     "cell_type": "code",
     "collapsed": false,
     "input": [
      "h1_material = Material('H-1')\n",
      "h1_material.setDensity(0.07778, 'g/cc')\n",
      "h1_material.addIsotope(h1, 2.0)"
     ],
     "language": "python",
     "metadata": {},
     "outputs": []
    },
    {
     "cell_type": "heading",
     "level": 4,
     "metadata": {},
     "source": [
      "Create flux Tally with equal lethargy bin widths:"
     ]
    },
    {
     "cell_type": "code",
     "collapsed": false,
     "input": [
      "lethargy_flux = TallyFactory.createTally(h1_material, FLUX)\n",
      "lethargy_flux.generateBinEdges(1E-2, 1E7, 5000, LOGARITHMIC)"
     ],
     "language": "python",
     "metadata": {},
     "outputs": []
    },
    {
     "cell_type": "heading",
     "level": 4,
     "metadata": {},
     "source": [
      "Create a neutron and Fissioner object:"
     ]
    },
    {
     "cell_type": "code",
     "collapsed": false,
     "input": [
      "neutron = createNewNeutron()\n",
      "fissioner = Fissioner()"
     ],
     "language": "python",
     "metadata": {},
     "outputs": []
    },
    {
     "cell_type": "heading",
     "level": 4,
     "metadata": {},
     "source": [
      "Iterate over generations and collide each neutron in H-1:"
     ]
    },
    {
     "cell_type": "code",
     "collapsed": false,
     "input": [
      "py_printf('INFO', 'Simulating H-1 flux for %d generations...', num_generations)\n",
      "py_printf('INFO', '# neutrons = %d\\t\\t# generations = %d', num_neutrons, num_generations)\n",
      "\n",
      "for i in range(num_neutrons):\t\n",
      "\n",
      "    # Sample a fission energy from the Watt fission spectrum\n",
      "    neutron._energy = fissioner.emitNeutroneV()\n",
      "\n",
      "    for j in range(num_generations):\n",
      "        h1_material.collideNeutron(neutron)\n",
      "        lethargy_flux.tally(neutron)   "
     ],
     "language": "python",
     "metadata": {},
     "outputs": []
    },
    {
     "cell_type": "heading",
     "level": 4,
     "metadata": {},
     "source": [
      "Plot the slowing down flux:"
     ]
    },
    {
     "cell_type": "code",
     "collapsed": false,
     "input": [
      "py_printf('INFO', 'Plotting the lethargy flux...')\n",
      "\n",
      "plotter.plotFlux(lethargy_flux, filename='lethargy-flux-fission', title='H1 Energy Flux From Fission Spectrum')"
     ],
     "language": "python",
     "metadata": {},
     "outputs": []
    }
   ],
   "metadata": {}
  }
 ]
}