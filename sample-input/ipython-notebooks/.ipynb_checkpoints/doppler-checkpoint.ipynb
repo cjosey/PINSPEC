{
 "metadata": {
  "name": ""
 },
 "nbformat": 3,
 "nbformat_minor": 0,
 "worksheets": [
  {
   "cells": [
    {
     "cell_type": "heading",
     "level": 2,
     "metadata": {},
     "source": [
      "Homework 3 - Single Level Breit Wigner (SLBW) Cross-Section Generation and Doppler Broadening"
     ]
    },
    {
     "cell_type": "heading",
     "level": 4,
     "metadata": {},
     "source": [
      "This python script uses PINSPEC to generate results for homework 3 of the 22.211 Introduction to Reactor Physics course taught at MIT by Prof. Kord Smith in spring 2012."
     ]
    },
    {
     "cell_type": "heading",
     "level": 4,
     "metadata": {},
     "source": [
      "First, we import the necessary Python modules to execute this script:"
     ]
    },
    {
     "cell_type": "code",
     "collapsed": false,
     "input": [
      "import numpy\n",
      "from pinspec import *\n",
      "import pinspec.slbw as slbw\n",
      "import pinspec.plotter as plotter\n",
      "import pinspec.process as process\n",
      "from pinspec.log import *"
     ],
     "language": "python",
     "metadata": {},
     "outputs": []
    },
    {
     "cell_type": "heading",
     "level": 4,
     "metadata": {},
     "source": [
      "Then, initialize the logging module:"
     ]
    },
    {
     "cell_type": "code",
     "collapsed": false,
     "input": [
      "set_output_directory('doppler');\n",
      "py_set_log_level('INFO')"
     ],
     "language": "python",
     "metadata": {},
     "outputs": []
    },
    {
     "cell_type": "heading",
     "level": 4,
     "metadata": {},
     "source": [
      "Set the main simulation parameters:"
     ]
    },
    {
     "cell_type": "code",
     "collapsed": false,
     "input": [
      "num_batches = 10\n",
      "num_neutrons_per_batch = 10000\n",
      "num_threads = 1"
     ],
     "language": "python",
     "metadata": {},
     "outputs": []
    },
    {
     "cell_type": "heading",
     "level": 4,
     "metadata": {},
     "source": [
      "We create Isotopes:"
     ]
    },
    {
     "cell_type": "code",
     "collapsed": false,
     "input": [
      "py_printf('INFO', 'Initializing isotopes...')\n",
      "h1 = Isotope('H-1')\n",
      "u238 = Isotope('U-238')"
     ],
     "language": "python",
     "metadata": {},
     "outputs": []
    },
    {
     "cell_type": "heading",
     "level": 4,
     "metadata": {},
     "source": [
      "Create an artificial capture cross-section for H-1:"
     ]
    },
    {
     "cell_type": "code",
     "collapsed": false,
     "input": [
      "norm_const = 0.025\n",
      "h1_capture_energies = numpy.logspace(-5., 7.5, 500);\n",
      "h1_capture_xs = numpy.sqrt(norm_const/h1_capture_energies) * 2.;\n",
      "h1.setCaptureXS(h1_capture_energies, h1_capture_xs)"
     ],
     "language": "python",
     "metadata": {},
     "outputs": []
    },
    {
     "cell_type": "heading",
     "level": 4,
     "metadata": {},
     "source": [
      "Zero out the scattering and fission cross-sections for U-238"
     ]
    },
    {
     "cell_type": "code",
     "collapsed": false,
     "input": [
      "energy = numpy.array([1E-7, 2e7])\t        # energy bounds\n",
      "xs = numpy.array([0.0])\t\t\t\t      # one group xs\n",
      "\n",
      "u238.setMultigroupElasticXS(energy, xs)\n",
      "u238.setMultigroupFissionXS(energy, xs)"
     ],
     "language": "python",
     "metadata": {},
     "outputs": []
    },
    {
     "cell_type": "heading",
     "level": 4,
     "metadata": {},
     "source": [
      "Let's plot the microscopic cross-sections for both Isotopes just to see what they look like:"
     ]
    },
    {
     "cell_type": "code",
     "collapsed": false,
     "input": [
      "py_printf('INFO', 'Plotting microscopic cross-sections...')\n",
      "plotter.plotMicroXS(h1, ['capture', 'elastic', 'fission'])\n",
      "plotter.plotMicroXS(u238, ['capture', 'elastic', 'fission'])"
     ],
     "language": "python",
     "metadata": {},
     "outputs": []
    },
    {
     "cell_type": "heading",
     "level": 4,
     "metadata": {},
     "source": [
      "Let's neglect thermal scattering for U-238"
     ]
    },
    {
     "cell_type": "code",
     "collapsed": false,
     "input": [
      "u238.neglectThermalScattering()"
     ],
     "language": "python",
     "metadata": {},
     "outputs": []
    },
    {
     "cell_type": "heading",
     "level": 4,
     "metadata": {},
     "source": [
      "Create a Material and fill it with H-1 and U-238 Isotopes "
     ]
    },
    {
     "cell_type": "code",
     "collapsed": false,
     "input": [
      "py_printf('INFO', 'Creating a fuel-moderator mixture material...')\n",
      "mix = Material('Fuel Moderator Mix')\n",
      "mix.setDensity(5., 'g/cc')\n",
      "mix.addIsotope(h1, 1.0)\n",
      "mix.addIsotope(u238, 1E-1)"
     ],
     "language": "python",
     "metadata": {},
     "outputs": []
    },
    {
     "cell_type": "heading",
     "level": 4,
     "metadata": {},
     "source": [
      "Create an infinite homogeneous medium Region filled by the Material:"
     ]
    },
    {
     "cell_type": "code",
     "collapsed": false,
     "input": [
      "py_printf('INFO', 'Creating an infinite homogeneous region...')\n",
      "region_mix = InfiniteMediumRegion('infinite medium')\n",
      "region_mix.setMaterial(mix)"
     ],
     "language": "python",
     "metadata": {},
     "outputs": []
    },
    {
     "cell_type": "heading",
     "level": 4,
     "metadata": {},
     "source": [
      "Create a Geometry filled by the infinite medium Region"
     ]
    },
    {
     "cell_type": "code",
     "collapsed": false,
     "input": [
      "py_printf('INFO', 'Creating the geometry...')\n",
      "geometry = Geometry(INFINITE_HOMOGENEOUS)\n",
      "geometry.addRegion(region_mix)\n",
      "geometry.setNumBatches(num_batches)\n",
      "geometry.setNeutronsPerBatch(num_neutrons_per_batch)\n",
      "geometry.setNumThreads(num_threads)"
     ],
     "language": "python",
     "metadata": {},
     "outputs": []
    },
    {
     "cell_type": "heading",
     "level": 4,
     "metadata": {},
     "source": [
      "Initialize Tallies for the flux at various U/H ratios:"
     ]
    },
    {
     "cell_type": "code",
     "collapsed": false,
     "input": [
      "py_printf('INFO', 'Initializing tallies for flux and absorption rates...')\n",
      "flux1 = TallyFactory.createTally(geometry, FLUX, 'U/H = 1E-6')\n",
      "flux2 = TallyFactory.createTally(geometry, FLUX, 'U/H = 0.01')\n",
      "flux3 = TallyFactory.createTally(geometry, FLUX, 'U/H = 0.1')\n",
      "flux4 = TallyFactory.createTally(geometry, FLUX, 'U/H = 1.0')\n",
      "\n",
      "flux1.generateBinEdges(1E-2, 1E7, 5000, LOGARITHMIC)\n",
      "flux2.generateBinEdges(1E-2, 1E7, 5000, LOGARITHMIC)\n",
      "flux3.generateBinEdges(1E-2, 1E7, 5000, LOGARITHMIC)\n",
      "flux4.generateBinEdges(1E-2, 1E7, 5000, LOGARITHMIC)\n",
      "fluxes = [flux1, flux2, flux3, flux4]"
     ],
     "language": "python",
     "metadata": {},
     "outputs": []
    },
    {
     "cell_type": "heading",
     "level": 4,
     "metadata": {},
     "source": [
      "Create Tallies to compute absorption in U-238 and the Material"
     ]
    },
    {
     "cell_type": "code",
     "collapsed": false,
     "input": [
      "u238_abs_rate = TallyFactory.createTally(u238, ABSORPTION_RATE, 'u238 abs')\n",
      "tot_abs_rate =  TallyFactory.createTally(region_mix, ABSORPTION_RATE, 'tot abs')\n",
      "abs_rate_flux = TallyFactory.createTally(region_mix, FLUX)\n",
      "\n",
      "abs_rate_bin_edges = numpy.array([1E-5, 1., 6., 10., 25., 50., 100., 1000.])\n",
      "\n",
      "tot_abs_rate.generateBinEdges(1E-7, 2E7, 1, EQUAL)\n",
      "u238_abs_rate.setBinEdges(abs_rate_bin_edges)\n",
      "abs_rate_flux.setBinEdges(abs_rate_bin_edges)"
     ],
     "language": "python",
     "metadata": {},
     "outputs": []
    },
    {
     "cell_type": "heading",
     "level": 4,
     "metadata": {},
     "source": [
      "Register the Tallies with the TallyBank:"
     ]
    },
    {
     "cell_type": "code",
     "collapsed": false,
     "input": [
      "py_printf('INFO', 'Registering tallies with the TallyBank...')\n",
      "TallyBank.registerTally(u238_abs_rate, region_mix)\n",
      "TallyBank.registerTally(tot_abs_rate, region_mix)\n",
      "TallyBank.registerTally(abs_rate_flux)"
     ],
     "language": "python",
     "metadata": {},
     "outputs": []
    },
    {
     "cell_type": "heading",
     "level": 4,
     "metadata": {},
     "source": [
      "Initialize lists over temperatures and U/H ratios corresponding to each simulation:"
     ]
    },
    {
     "cell_type": "code",
     "collapsed": false,
     "input": [
      "u_h_ratios = [1E-6, 1E-2, 1E-1, 1E0]\n",
      "temps = [300, 600, 900, 1200]\n",
      "abs_rate_ratios = []\n",
      "Eff_RIs = []\n",
      "True_RIs = []"
     ],
     "language": "python",
     "metadata": {},
     "outputs": []
    },
    {
     "cell_type": "heading",
     "level": 4,
     "metadata": {},
     "source": [
      "Iterate over temperatures and U/H ratios to do the following\n",
      "  1) Generate an SLBW-broadened cross-section at the given temperature\n",
      "  2) Register the Tallies for RIs with the TallyBank\n",
      "  3) Run a Monte Carlo simulation for a given temperature and U/H ratio\n",
      "  4) Plot the flux for each U/H ratio at the given temperature\n",
      "  5) Print the RIs for each U/H ratio at the given temperature"
     ]
    },
    {
     "cell_type": "code",
     "collapsed": false,
     "input": [
      "for temp in range(len(temps)):\n",
      "\n",
      "    py_printf('TITLE', 'Temperature = %dK', temps[temp])\n",
      "\n",
      "    Eff_RIs.append([])\n",
      "    abs_rate_ratios.append([])\n",
      "\n",
      "    slbw.buildSLBWXS('U-238', temps[temp], 'capture')\n",
      "#    u238.loadXS('capture')\n",
      "    RI = process.RITrue(u238, abs_rate_bin_edges, reaction='capture')\n",
      "    RI.setName('True RI (Temp=%dK)' % temps[temp])\n",
      "    True_RIs.append(RI)\n",
      "\n",
      "    for u_h_ratio in range(len(u_h_ratios)):\n",
      "\n",
      "        TallyBank.registerTally(fluxes[u_h_ratio])\n",
      "\n",
      "        # Update U-238 atom ratio\n",
      "        mix.addIsotope(u238, u_h_ratios[u_h_ratio])\n",
      "\n",
      "        # Run Monte Carlo simulation\n",
      "        geometry.runMonteCarloSimulation();\n",
      "\n",
      "        # Compute the resonance integrals\n",
      "        RI = process.RIEff(abs_rate_flux, u238_abs_rate)\n",
      "        RI.setName('Effective RI (U/H=%1.0E)' % u_h_ratios[u_h_ratio])\n",
      "        Eff_RIs[temp].append(RI)\n",
      "\n",
      "        # Compute absorption rate ratios\n",
      "        abs_rate_ratio = u238_abs_rate / tot_abs_rate\n",
      "        abs_rate_ratio.setTallyName('U238 / Tot for U/H=%1.0E' % u_h_ratios[u_h_ratio])\n",
      "        abs_rate_ratios[temp].append(abs_rate_ratio)\n",
      "\n",
      "        # Append flux for this simulation to an array and deregister it\n",
      "        # for next simulation\n",
      "        fluxes[u_h_ratio].normalizeBatchMu()\n",
      "        TallyBank.deregisterTally(fluxes[u_h_ratio])\n",
      "\n",
      "    # Plot fluxes\n",
      "    plotter.plotFlux(fluxes,title='Flux for Temp = ' + str(temps[temp]) + 'K', \\\n",
      "                     filename='flux-temp-' + str(temps[temp])+'K', uselegend=True)\n",
      "\n",
      "    # print the reaction rate ratios and resonance integrals to the shell\n",
      "    process.printTallies(abs_rate_ratios[temp], header='U238 Abs. / Tot. Abs.')\n",
      "    process.printRIs(Eff_RIs[temp], header='Temp=%dK'%temps[temp])"
     ],
     "language": "python",
     "metadata": {},
     "outputs": []
    }
   ],
   "metadata": {}
  }
 ]
}