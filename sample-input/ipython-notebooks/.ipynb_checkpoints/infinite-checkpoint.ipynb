{
 "metadata": {
  "name": ""
 },
 "nbformat": 3,
 "nbformat_minor": 0,
 "worksheets": [
  {
   "cells": [
    {
     "cell_type": "heading",
     "level": 2,
     "metadata": {},
     "source": [
      "Infinite Medium PWR Spectral Calculation"
     ]
    },
    {
     "cell_type": "heading",
     "level": 3,
     "metadata": {},
     "source": [
      "This python script uses PINSPEC to generate a flux for an arbitrary infinite medium, containing the predominant isotopes found in a PWR."
     ]
    },
    {
     "cell_type": "heading",
     "level": 4,
     "metadata": {},
     "source": [
      "First, we import the necessary Python modules to execute this script:"
     ]
    },
    {
     "cell_type": "code",
     "collapsed": false,
     "input": [
      "import numpy\n",
      "from pinspec import *\n",
      "import pinspec.plotter as plotter\n",
      "from pinspec.log import *"
     ],
     "language": "python",
     "metadata": {},
     "outputs": []
    },
    {
     "cell_type": "heading",
     "level": 4,
     "metadata": {},
     "source": [
      "Then we initialize the logging module:"
     ]
    },
    {
     "cell_type": "code",
     "collapsed": false,
     "input": [
      "set_output_directory('infinite')\n",
      "py_set_log_level('INFO')"
     ],
     "language": "python",
     "metadata": {},
     "outputs": []
    },
    {
     "cell_type": "heading",
     "level": 4,
     "metadata": {},
     "source": [
      "We create Isotopes:"
     ]
    },
    {
     "cell_type": "code",
     "collapsed": false,
     "input": [
      "py_printf('NORMAL', 'Initializing isotopes...')\n",
      "\n",
      "h1 = Isotope('H-1')\n",
      "b10 = Isotope('B-10')\n",
      "o16 = Isotope('O-16')\n",
      "u235 = Isotope('U-235')\n",
      "u238 = Isotope('U-238')\n",
      "zr90 = Isotope('Zr-90')"
     ],
     "language": "python",
     "metadata": {},
     "outputs": []
    },
    {
     "cell_type": "heading",
     "level": 4,
     "metadata": {},
     "source": [
      "We create a Material composed of Isotopes:"
     ]
    },
    {
     "cell_type": "code",
     "collapsed": false,
     "input": [
      "py_printf('NORMAL', 'Initializing infinite medium material...')\n",
      "mix = Material('Fuel Moderator Mix')\n",
      "mix.setDensity(5., 'g/cc')\n",
      "mix.addIsotope(b10, .0000001)\n",
      "mix.addIsotope(o16, 1.0)\n",
      "mix.addIsotope(h1, 1.0)\n",
      "mix.addIsotope(u238, 0.01)\n",
      "mix.addIsotope(u235, .0025)\n",
      "mix.addIsotope(zr90, .16)"
     ],
     "language": "python",
     "metadata": {},
     "outputs": []
    },
    {
     "cell_type": "heading",
     "level": 4,
     "metadata": {},
     "source": [
      "We create an infinite medium Region filled by the Material:"
     ]
    },
    {
     "cell_type": "code",
     "collapsed": false,
     "input": [
      "py_printf('NORMAL', 'Initializing infnite medium region...')\n",
      "region_mix = InfiniteMediumRegion('infinite medium')\n",
      "region_mix.setMaterial(mix)"
     ],
     "language": "python",
     "metadata": {},
     "outputs": []
    },
    {
     "cell_type": "heading",
     "level": 4,
     "metadata": {},
     "source": [
      "We create the Geometry which is filled by the infinite medium Region:"
     ]
    },
    {
     "cell_type": "code",
     "collapsed": false,
     "input": [
      "py_printf('NORMAL', 'Initializing the geometry...')\n",
      "geometry = Geometry(INFINITE_HOMOGENEOUS)\n",
      "geometry.addRegion(region_mix)"
     ],
     "language": "python",
     "metadata": {},
     "outputs": []
    },
    {
     "cell_type": "heading",
     "level": 4,
     "metadata": {},
     "source": [
      "We create a Tally for the flux and register it with the TallyBank:"
     ]
    },
    {
     "cell_type": "code",
     "collapsed": false,
     "input": [
      "py_printf('NORMAL', 'Initializing flux tally...')\n",
      "flux = TallyFactory.createTally(region_mix, FLUX, 'flux')\n",
      "flux.generateBinEdges(1E-2, 1E7, 1000, LOGARITHMIC)\n",
      "TallyBank.registerTally(flux)"
     ],
     "language": "python",
     "metadata": {},
     "outputs": []
    },
    {
     "cell_type": "heading",
     "level": 4,
     "metadata": {},
     "source": [
      "Run the Monte Carlo simulation with the default number of batches (10), neutrons per batch (10,000), etc:"
     ]
    },
    {
     "cell_type": "code",
     "collapsed": false,
     "input": [
      "geometry.runMonteCarloSimulation()"
     ],
     "language": "python",
     "metadata": {},
     "outputs": []
    },
    {
     "cell_type": "heading",
     "level": 4,
     "metadata": {},
     "source": [
      "Next, we plot the flux Tally:"
     ]
    },
    {
     "cell_type": "code",
     "collapsed": false,
     "input": [
      "py_printf('INFO', 'Plotting flux...')\n",
      "plotter.plotFlux(flux, uselegend=False, filename='flux', title='Infinite medium flux')"
     ],
     "language": "python",
     "metadata": {},
     "outputs": []
    },
    {
     "cell_type": "heading",
     "level": 4,
     "metadata": {},
     "source": [
      "Export the batch statistics for the flux Tally to a file:"
     ]
    },
    {
     "cell_type": "code",
     "collapsed": false,
     "input": [
      "py_printf('INFO', 'Writing tally batch statistics to output file...')\n",
      "TallyBank.outputBatchStatistics()"
     ],
     "language": "python",
     "metadata": {},
     "outputs": []
    }
   ],
   "metadata": {}
  }
 ]
}