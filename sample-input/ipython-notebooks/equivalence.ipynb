{
 "metadata": {
  "name": "equivalence"
 },
 "nbformat": 3,
 "nbformat_minor": 0,
 "worksheets": [
  {
   "cells": [
    {
     "cell_type": "heading",
     "level": 2,
     "metadata": {},
     "source": [
      "Homework 4 - Heterogeneous-Homogeneous Equivalence Monte Carlo Pin Cell Spectral Calculation"
     ]
    },
    {
     "cell_type": "heading",
     "level": 4,
     "metadata": {},
     "source": [
      "This python script uses PINSPEC to generate results for homework 4 of the 22.211 Introduction to Reactor Physics course taught at MIT by Prof. Kord Smith in spring 2012."
     ]
    },
    {
     "cell_type": "heading",
     "level": 4,
     "metadata": {},
     "source": [
      "First, we import the necessary Python modules to execute this script:"
     ]
    },
    {
     "cell_type": "code",
     "collapsed": false,
     "input": [
      "import numpy\n",
      "import math\n",
      "from pinspec import *\n",
      "import pinspec.plotter as plotter\n",
      "import pinspec.process as process\n",
      "from pinspec.log import *"
     ],
     "language": "python",
     "metadata": {},
     "outputs": []
    },
    {
     "cell_type": "heading",
     "level": 4,
     "metadata": {},
     "source": [
      "Then, initialize the logging module:"
     ]
    },
    {
     "cell_type": "code",
     "collapsed": false,
     "input": [
      "setOutputDirectory('equivalence')\n",
      "py_setlevel('INFO')"
     ],
     "language": "python",
     "metadata": {},
     "outputs": []
    },
    {
     "cell_type": "heading",
     "level": 4,
     "metadata": {},
     "source": [
      "Set the main simulation parameters:"
     ]
    },
    {
     "cell_type": "code",
     "collapsed": false,
     "input": [
      "num_batches = 50\n",
      "num_neutrons_per_batch = 10000\n",
      "num_threads = 1"
     ],
     "language": "python",
     "metadata": {},
     "outputs": []
    },
    {
     "cell_type": "heading",
     "level": 4,
     "metadata": {},
     "source": [
      "Set materials and geometric parameters:"
     ]
    },
    {
     "cell_type": "code",
     "collapsed": false,
     "input": [
      "nu = 2.45\n",
      "radius_fuel = 0.4096\n",
      "radius_gap = 0.4178\n",
      "radius_clad = 0.4750\n",
      "pitch = 1.26\n",
      "pitch_squared = pitch**2.0\n",
      "dancoff = 0.277"
     ],
     "language": "python",
     "metadata": {},
     "outputs": []
    },
    {
     "cell_type": "heading",
     "level": 3,
     "metadata": {},
     "source": [
      "Compute Homogenized Number Densities"
     ]
    },
    {
     "cell_type": "heading",
     "level": 4,
     "metadata": {},
     "source": [
      "Assign 2-region homogenized densities [g/cc] and fuel enrichment:"
     ]
    },
    {
     "cell_type": "code",
     "collapsed": false,
     "input": [
      "rho_fuel = 10.2\n",
      "rho_clad = 6.54\n",
      "rho_coolant = 0.9966\n",
      "enrichment = 0.03035"
     ],
     "language": "python",
     "metadata": {},
     "outputs": []
    },
    {
     "cell_type": "heading",
     "level": 4,
     "metadata": {},
     "source": [
      "Compute material number densities:"
     ]
    },
    {
     "cell_type": "code",
     "collapsed": false,
     "input": [
      "N_A = 6.023E23                  # Avogadro's number\n",
      "\n",
      "N_u238 = rho_fuel * N_A * (1.0 - enrichment) / ((238.0 * (1.0 - enrichment)) + (235.0 * enrichment) + (16.0 * 2.0))\n",
      "N_u235 = rho_fuel * N_A * enrichment / ((238.0 * (1.0 - enrichment)) + (235.0 * enrichment) + (16.0 * 2.0))\n",
      "N_o16 = rho_fuel * N_A * 2.0 / ((238.0 * (1.0 - enrichment)) + (235.0 * enrichment) + (16.0 * 2.0))\n",
      "N_zr90 = rho_clad * N_A / 90.0\n",
      "N_h2o = rho_coolant * N_A / 18.0\n",
      "N_h1 = rho_coolant * N_A * 2.0 / 18.0"
     ],
     "language": "python",
     "metadata": {},
     "outputs": []
    },
    {
     "cell_type": "heading",
     "level": 4,
     "metadata": {},
     "source": [
      "Compute 2-region pin cell volumes [g/cc]:"
     ]
    },
    {
     "cell_type": "code",
     "collapsed": false,
     "input": [
      "vol_fuel = math.pi * radius_fuel**2.0\n",
      "vol_gap = math.pi * (radius_gap**2.0 - radius_fuel**2.0)\n",
      "vol_clad = math.pi * (radius_clad**2.0 - radius_gap**2.0)\n",
      "vol_coolant = pitch_squared\t- math.pi * radius_clad**2.0\n",
      "vol_moderator = vol_gap + vol_clad + vol_coolant;\n",
      "vol_total = vol_fuel + vol_moderator;"
     ],
     "language": "python",
     "metadata": {},
     "outputs": []
    },
    {
     "cell_type": "heading",
     "level": 4,
     "metadata": {},
     "source": [
      "Compute homogenized moderator number density using volume weighting:"
     ]
    },
    {
     "cell_type": "code",
     "collapsed": false,
     "input": [
      "N_h2o *= (vol_coolant / vol_moderator);\n",
      "N_h1 *= (vol_coolant / vol_moderator);\n",
      "N_zr90 *= (vol_clad / vol_moderator);\n",
      "N_moderator = N_h2o + N_zr90 + N_h1\n",
      "N_fuel = N_u238 + N_u235 + N_o16\n",
      "\n",
      "rho_moderator = (vol_coolant / vol_moderator) * rho_coolant + (vol_clad / vol_moderator) * rho_clad"
     ],
     "language": "python",
     "metadata": {},
     "outputs": []
    },
    {
     "cell_type": "heading",
     "level": 3,
     "metadata": {},
     "source": [
      "Create Isotopes"
     ]
    },
    {
     "cell_type": "heading",
     "level": 4,
     "metadata": {},
     "source": [
      "Initialize the Isotope objects:"
     ]
    },
    {
     "cell_type": "code",
     "collapsed": false,
     "input": [
      "py_printf('INFO', 'Initializing isotopes...')\n",
      "h1 = Isotope('H-1')\n",
      "o16 = Isotope('O-16')\n",
      "u235 = Isotope('U-235')\n",
      "u238 = Isotope('U-238')\n",
      "zr90 = Isotope('Zr-90')"
     ],
     "language": "python",
     "metadata": {},
     "outputs": []
    },
    {
     "cell_type": "heading",
     "level": 4,
     "metadata": {},
     "source": [
      "Neglect thermal scattering in isotopes other than H-1:"
     ]
    },
    {
     "cell_type": "code",
     "collapsed": false,
     "input": [
      "o16.neglectThermalScattering()\n",
      "u235.neglectThermalScattering()\n",
      "u238.neglectThermalScattering()\n",
      "zr90.neglectThermalScattering()"
     ],
     "language": "python",
     "metadata": {},
     "outputs": []
    },
    {
     "cell_type": "heading",
     "level": 4,
     "metadata": {},
     "source": [
      "Set one group potential elastic scattering cross-section for U-235"
     ]
    },
    {
     "cell_type": "code",
     "collapsed": false,
     "input": [
      "xs_energies = numpy.array([1E-7, 2E7])\n",
      "xs = numpy.array([11.4])\n",
      "u235.setMultigroupElasticXS(xs_energies, xs)"
     ],
     "language": "python",
     "metadata": {},
     "outputs": []
    },
    {
     "cell_type": "heading",
     "level": 4,
     "metadata": {},
     "source": [
      "Set one group potential elastic scattering cross-section for U-238"
     ]
    },
    {
     "cell_type": "code",
     "collapsed": false,
     "input": [
      "xs = numpy.array([11.3])\n",
      "u238.setMultigroupElasticXS(xs_energies, xs)"
     ],
     "language": "python",
     "metadata": {},
     "outputs": []
    },
    {
     "cell_type": "heading",
     "level": 4,
     "metadata": {},
     "source": [
      "Zero out the capture cross-ection for Zr-90 and O-16"
     ]
    },
    {
     "cell_type": "code",
     "collapsed": false,
     "input": [
      "xs = numpy.array([0.0])\n",
      "zr90.setMultigroupCaptureXS(xs_energies, xs)\n",
      "o16.setMultigroupCaptureXS(xs_energies, xs)"
     ],
     "language": "python",
     "metadata": {},
     "outputs": []
    },
    {
     "cell_type": "heading",
     "level": 3,
     "metadata": {},
     "source": [
      "Create Materials"
     ]
    },
    {
     "cell_type": "heading",
     "level": 4,
     "metadata": {},
     "source": [
      "Create moderator Material object and assign it Isotopes and relative number densities:"
     ]
    },
    {
     "cell_type": "code",
     "collapsed": false,
     "input": [
      "moderator = Material('moderator')\n",
      "moderator.setDensity(rho_moderator, 'g/cc')\n",
      "moderator.addIsotope(h1, N_h1 / N_moderator)\n",
      "moderator.addIsotope(o16, N_h2o / N_moderator)\n",
      "moderator.addIsotope(zr90, N_zr90 / N_moderator)"
     ],
     "language": "python",
     "metadata": {},
     "outputs": []
    },
    {
     "cell_type": "heading",
     "level": 4,
     "metadata": {},
     "source": [
      "Create fuel Material object and assign it Isotopes and relative number densities:"
     ]
    },
    {
     "cell_type": "code",
     "collapsed": false,
     "input": [
      "fuel = Material('fuel')\n",
      "fuel.setDensity(rho_fuel, 'g/cc')\n",
      "fuel.addIsotope(u235, N_u235 / N_fuel)\n",
      "fuel.addIsotope(u238, N_u238 / N_fuel)\n",
      "fuel.addIsotope(o16, N_o16 / N_fuel)"
     ],
     "language": "python",
     "metadata": {},
     "outputs": []
    },
    {
     "cell_type": "heading",
     "level": 4,
     "metadata": {},
     "source": [
      "Plot microscopic and macroscopic cross-sections"
     ]
    },
    {
     "cell_type": "code",
     "collapsed": false,
     "input": [
      "plotter.plotMicroXS(u235, ['capture', 'elastic', 'fission'])\n",
      "plotter.plotMicroXS(u238, ['capture', 'elastic', 'fission'])\n",
      "plotter.plotMicroXS(h1, ['capture', 'elastic', 'absorption'])\n",
      "plotter.plotMicroXS(o16, ['capture', 'elastic', 'absorption'])\n",
      "plotter.plotMacroXS(fuel, ['capture', 'elastic', 'fission'])\n",
      "plotter.plotMacroXS(moderator, ['capture', 'elastic', 'fission'])"
     ],
     "language": "python",
     "metadata": {},
     "outputs": []
    },
    {
     "cell_type": "heading",
     "level": 3,
     "metadata": {},
     "source": [
      "Create Regions and Geometry"
     ]
    },
    {
     "cell_type": "heading",
     "level": 4,
     "metadata": {},
     "source": [
      "Create fuel and moderator regions for a heterogeneous-homogeneous equivalence model. :"
     ]
    },
    {
     "cell_type": "code",
     "collapsed": false,
     "input": [
      "region_mod = EquivalenceModeratorRegion('moderator')\n",
      "region_mod.setMaterial(moderator)\n",
      "        \n",
      "region_fuel = EquivalenceFuelRegion('fuel')\n",
      "region_fuel.setMaterial(fuel)"
     ],
     "language": "python",
     "metadata": {},
     "outputs": []
    },
    {
     "cell_type": "heading",
     "level": 4,
     "metadata": {},
     "source": [
      "Create Geometry object:"
     ]
    },
    {
     "cell_type": "code",
     "collapsed": false,
     "input": [
      "geometry = Geometry(HOMOGENEOUS_EQUIVALENCE)"
     ],
     "language": "python",
     "metadata": {},
     "outputs": []
    },
    {
     "cell_type": "heading",
     "level": 4,
     "metadata": {},
     "source": [
      "Add fuel and moderator Regions to the Geometry:"
     ]
    },
    {
     "cell_type": "code",
     "collapsed": false,
     "input": [
      "geometry.addRegion(region_mod)\n",
      "geometry.addRegion(region_fuel)"
     ],
     "language": "python",
     "metadata": {},
     "outputs": []
    },
    {
     "cell_type": "heading",
     "level": 4,
     "metadata": {},
     "source": [
      "Set geometric parameters:"
     ]
    },
    {
     "cell_type": "code",
     "collapsed": false,
     "input": [
      "geometry.setFuelPinRadius(radius_fuel)\n",
      "geometry.setPinCellPitch(pitch)\n",
      "geometry.setDancoffFactor(dancoff)"
     ],
     "language": "python",
     "metadata": {},
     "outputs": []
    },
    {
     "cell_type": "heading",
     "level": 4,
     "metadata": {},
     "source": [
      "Set main simulation parameters:"
     ]
    },
    {
     "cell_type": "code",
     "collapsed": false,
     "input": [
      "geometry.setNumBatches(num_batches)\n",
      "geometry.setNeutronsPerBatch(num_neutrons_per_batch)\n",
      "geometry.setNumThreads(num_threads)"
     ],
     "language": "python",
     "metadata": {},
     "outputs": []
    },
    {
     "cell_type": "heading",
     "level": 3,
     "metadata": {},
     "source": [
      "Create Tallies"
     ]
    },
    {
     "cell_type": "heading",
     "level": 4,
     "metadata": {},
     "source": [
      "Create Tallies for the energy high-resolution fluxes for plotting:"
     ]
    },
    {
     "cell_type": "code",
     "collapsed": false,
     "input": [
      "total_flux = TallyFactory.createTally(geometry, FLUX, 'total')\n",
      "moderator_flux = TallyFactory.createTally(moderator, FLUX, 'moderator')\n",
      "fuel_flux = TallyFactory.createTally(fuel, FLUX, 'fuel')\n",
      "\n",
      "total_flux.generateBinEdges(1E-2, 1E7, 5000, LOGARITHMIC)\n",
      "moderator_flux.generateBinEdges(1E-2, 1E7, 5000, LOGARITHMIC)\n",
      "fuel_flux.generateBinEdges(1E-2, 1E7, 5000, LOGARITHMIC)"
     ],
     "language": "python",
     "metadata": {},
     "outputs": []
    },
    {
     "cell_type": "heading",
     "level": 4,
     "metadata": {},
     "source": [
      "Create Tallies for moderator-to-fuel flux ratios:"
     ]
    },
    {
     "cell_type": "code",
     "collapsed": false,
     "input": [
      "fuel_flux_ratio = TallyFactory.createTally(fuel, FLUX, 'Fuel Flux')\n",
      "moderator_flux_ratio = TallyFactory.createTally(moderator,FLUX,'Moderator Flux')\n",
      "\n",
      "flux_bin_edges = numpy.array([0., 0.1, 0.5, 1., 6., 10., 25., 50., 1E2, 1E3, 1E4, 1E5, 5E5, 1E7])\n",
      "\n",
      "moderator_flux_ratio.setBinEdges(flux_bin_edges)\n",
      "fuel_flux_ratio.setBinEdges(flux_bin_edges)"
     ],
     "language": "python",
     "metadata": {},
     "outputs": []
    },
    {
     "cell_type": "heading",
     "level": 4,
     "metadata": {},
     "source": [
      "Create Tallies for 2-group cross-sections:"
     ]
    },
    {
     "cell_type": "code",
     "collapsed": false,
     "input": [
      "total_flux_xs = TallyFactory.createTally(geometry, FLUX)\n",
      "elastic_rate = TallyFactory.createTally(geometry, ELASTIC_RATE)\n",
      "capture_rate = TallyFactory.createTally(geometry, CAPTURE_RATE)\n",
      "fission_rate = TallyFactory.createTally(geometry, FISSION_RATE)\n",
      "absorb_rate = TallyFactory.createTally(geometry, ABSORPTION_RATE)\n",
      "transport_rate = TallyFactory.createTally(geometry, TRANSPORT_RATE)\n",
      "diffusion_rate = TallyFactory.createTally(geometry, DIFFUSION_RATE)\n",
      "total_rate = TallyFactory.createTally(geometry, COLLISION_RATE)\n",
      "\n",
      "group_xs_edges = numpy.array([0., 0.625, 1E7])\n",
      "\n",
      "total_flux_xs.setBinEdges(group_xs_edges)\n",
      "capture_rate.setBinEdges(group_xs_edges)\n",
      "fission_rate.setBinEdges(group_xs_edges)\n",
      "absorb_rate.setBinEdges(group_xs_edges)\n",
      "elastic_rate.setBinEdges(group_xs_edges)\n",
      "transport_rate.setBinEdges(group_xs_edges)\n",
      "diffusion_rate.setBinEdges(group_xs_edges)\n",
      "total_rate.setBinEdges(group_xs_edges)"
     ],
     "language": "python",
     "metadata": {},
     "outputs": []
    },
    {
     "cell_type": "heading",
     "level": 4,
     "metadata": {},
     "source": [
      "Create Tallies for computing k-infinity:"
     ]
    },
    {
     "cell_type": "code",
     "collapsed": false,
     "input": [
      "tot_fiss_rate = TallyFactory.createTally(geometry, FISSION_RATE)\n",
      "tot_abs_rate = TallyFactory.createTally(geometry, ABSORPTION_RATE)\n",
      "\n",
      "tot_fiss_rate.generateBinEdges(0.0, 1E7, 1, EQUAL)\n",
      "tot_abs_rate.generateBinEdges(0.0, 1E7, 1, EQUAL)"
     ],
     "language": "python",
     "metadata": {},
     "outputs": []
    },
    {
     "cell_type": "heading",
     "level": 4,
     "metadata": {},
     "source": [
      "Register Tallies for the simulation's TallyBank"
     ]
    },
    {
     "cell_type": "code",
     "collapsed": false,
     "input": [
      "TallyBank.registerTally(total_flux)\n",
      "TallyBank.registerTally(moderator_flux)\n",
      "TallyBank.registerTally(fuel_flux)\n",
      "TallyBank.registerTally(fuel_flux_ratio)\n",
      "TallyBank.registerTally(moderator_flux_ratio)\n",
      "TallyBank.registerTally(total_flux_xs)\n",
      "TallyBank.registerTally(elastic_rate)\n",
      "TallyBank.registerTally(capture_rate)\n",
      "TallyBank.registerTally(fission_rate)\n",
      "TallyBank.registerTally(absorb_rate)\n",
      "TallyBank.registerTally(transport_rate)\n",
      "TallyBank.registerTally(diffusion_rate)\n",
      "TallyBank.registerTally(total_rate)\n",
      "TallyBank.registerTally(tot_fiss_rate)\n",
      "TallyBank.registerTally(tot_abs_rate)"
     ],
     "language": "python",
     "metadata": {},
     "outputs": []
    },
    {
     "cell_type": "heading",
     "level": 3,
     "metadata": {},
     "source": [
      "Run the Monte Carlo Simulation"
     ]
    },
    {
     "cell_type": "code",
     "collapsed": false,
     "input": [
      "geometry.runMonteCarloSimulation();"
     ],
     "language": "python",
     "metadata": {},
     "outputs": []
    },
    {
     "cell_type": "heading",
     "level": 3,
     "metadata": {},
     "source": [
      "Process Output Data"
     ]
    },
    {
     "cell_type": "heading",
     "level": 4,
     "metadata": {},
     "source": [
      "Compute multi-group cross-sections:"
     ]
    },
    {
     "cell_type": "code",
     "collapsed": false,
     "input": [
      "elastic_xs = process.GroupXS(total_flux_xs, elastic_rate)\n",
      "capture_xs = process.GroupXS(total_flux_xs, capture_rate)\n",
      "fission_xs = process.GroupXS(total_flux_xs, fission_rate)\n",
      "absorb_xs = process.GroupXS(total_flux_xs, absorb_rate)\n",
      "transport_xs = process.GroupXS(total_flux_xs, transport_rate)\n",
      "diffusion_coeff = process.GroupXS(total_flux_xs, diffusion_rate)\n",
      "total_xs = process.GroupXS(total_flux_xs, total_rate)"
     ],
     "language": "python",
     "metadata": {},
     "outputs": []
    },
    {
     "cell_type": "heading",
     "level": 4,
     "metadata": {},
     "source": [
      "Report multi-group cross-secttions and uncertainties:"
     ]
    },
    {
     "cell_type": "code",
     "collapsed": false,
     "input": [
      "elastic_xs.printXS(uncertainties=True)\n",
      "capture_xs.printXS(uncertainties=True)\n",
      "fission_xs.printXS(uncertainties=True)\n",
      "absorb_xs.printXS(uncertainties=True)\n",
      "transport_xs.printXS(uncertainties=True)\n",
      "diffusion_coeff.printXS(uncertainties=True)\n",
      "total_xs.printXS(uncertainties=True)"
     ],
     "language": "python",
     "metadata": {},
     "outputs": []
    },
    {
     "cell_type": "heading",
     "level": 4,
     "metadata": {},
     "source": [
      "Compute k-infinity using tally arithmetic operators and print to screen:"
     ]
    },
    {
     "cell_type": "code",
     "collapsed": false,
     "input": [
      "k_inf = tot_fiss_rate * nu / tot_abs_rate\n",
      "k_inf.setTallyName('k-infinity')\n",
      "k_inf.printTallies(uncertainties=True)"
     ],
     "language": "python",
     "metadata": {},
     "outputs": []
    },
    {
     "cell_type": "heading",
     "level": 4,
     "metadata": {},
     "source": [
      "Compute moderator-to-fuel flux ratios and print to screen:"
     ]
    },
    {
     "cell_type": "code",
     "collapsed": false,
     "input": [
      "flux_ratio = moderator_flux_ratio / fuel_flux_ratio\n",
      "flux_ratio.setTallyName('Moderator-to-Fuel Flux Ratios')\n",
      "flux_ratio.printTallies(uncertainties=True)"
     ],
     "language": "python",
     "metadata": {},
     "outputs": []
    },
    {
     "cell_type": "heading",
     "level": 4,
     "metadata": {},
     "source": [
      "Plot the moderator, fuel and total fluxes:"
     ]
    },
    {
     "cell_type": "code",
     "collapsed": false,
     "input": [
      "plotter.plotFlux([total_flux, moderator_flux, fuel_flux], uselegend=True)"
     ],
     "language": "python",
     "metadata": {},
     "outputs": []
    },
    {
     "cell_type": "code",
     "collapsed": false,
     "input": [],
     "language": "python",
     "metadata": {},
     "outputs": []
    }
   ],
   "metadata": {}
  }
 ]
}