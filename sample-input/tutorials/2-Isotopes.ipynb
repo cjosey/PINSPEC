{
 "metadata": {
  "name": "2-Isotopes"
 },
 "nbformat": 3,
 "nbformat_minor": 0,
 "worksheets": [
  {
   "cells": [
    {
     "cell_type": "heading",
     "level": 1,
     "metadata": {},
     "source": [
      "A Tutorial on Creating Isotopes in PINSPEC"
     ]
    },
    {
     "cell_type": "markdown",
     "metadata": {},
     "source": [
      "This tutorial will cover the basics of creating Isotopes in PINSPEC. As with any PINSPEC script, we must first import the **pinspec** modules into our Python environment:"
     ]
    },
    {
     "cell_type": "code",
     "collapsed": false,
     "input": [
      "from pinspec import *\n",
      "from pinspec.log import *"
     ],
     "language": "python",
     "metadata": {},
     "outputs": []
    },
    {
     "cell_type": "markdown",
     "metadata": {},
     "source": [
      "Let's now set the output directory. In addition, in order to see some helpful initialization messages from the PINSPEC backend, we must set the log level to **'INFO'**:"
     ]
    },
    {
     "cell_type": "code",
     "collapsed": false,
     "input": [
      "setOutputDirectory('2-Isotopes')\n",
      "py_setlevel('INFO')"
     ],
     "language": "python",
     "metadata": {},
     "outputs": []
    },
    {
     "cell_type": "markdown",
     "metadata": {},
     "source": [
      "Now, we will create some Isotopes. In order to initialize an Isotope in PINSPEC, you must specify the name of the Isotope such that PINSPEC can find and load it's cross-section data. PINSPEC ships with a small cross-section library of capture, elastic scatter and fission cross-sections for the most common isotopes in light water reactors, including H-1, O-16, C-12, Zr-90, U-235, and U-238. If the data for an Isotope you wish to use is not included in the library, you may add it to the library according to the instructions in the PINSPEC documentation <a href=\"https://github.com/mit-crpg/PINSPEC/wiki/Isotopes#wiki-adding-new-isotopes-to-the-library\" target=\"None\">here</a>.<br/> <br/>**NOTE:** You will only be able to add new Isotopes to your own local copy of PINSPEC. If you are using a version of PINSPEC installed on a cluster, you will be unable to add new Isotope data.<br/><br/>Since H-1 is one of the most common Isotopes in most LWRs, let's initialize it as an Isotope object:"
     ]
    },
    {
     "cell_type": "code",
     "collapsed": false,
     "input": [
      "h1 = Isotope('H-1')"
     ],
     "language": "python",
     "metadata": {},
     "outputs": []
    },
    {
     "cell_type": "markdown",
     "metadata": {},
     "source": [
      "Note that PINSPEC reported that the capture and elastic cross-sections were loaded from its data library. Now, that we understand how to create Isotopes, let's create a few more that are commonly found in LWRs"
     ]
    },
    {
     "cell_type": "code",
     "collapsed": false,
     "input": [
      "c12 = Isotope('C-12')\n",
      "o16 = Isotope('O-16')\n",
      "u235 = Isotope('U-235')\n",
      "u238 = Isotope('U-238')\n",
      "zr90 = Isotope('Zr-90')"
     ],
     "language": "python",
     "metadata": {},
     "outputs": []
    },
    {
     "cell_type": "markdown",
     "metadata": {},
     "source": [
      "At this point, we should consider what is being done \"under the hood\" by PINSPEC when we initialize an Isotope object:<br/><br/>\n",
      "    \n",
      "1) Cross-section data is loaded<br/>\n",
      "2) Cross-sections are put on a uniform grid<br/>\n",
      "3) The total cross-section is computed<br/>\n",
      "4) The absorption (capture+fission) cross-section is computed<br/>\n",
      "5) Thermal scattering distributions are generated<br/><br/>\n",
      "\n",
      "In many cases, we may wish to override some of the default physics embedded in the Isotope object. For example, if we wished to not consider thermal scattering in H-1, we would simply call the **neglectThermalScattering()** routine:"
     ]
    },
    {
     "cell_type": "code",
     "collapsed": false,
     "input": [
      "h1.neglectThermalScattering()"
     ],
     "language": "python",
     "metadata": {},
     "outputs": []
    },
    {
     "cell_type": "markdown",
     "metadata": {},
     "source": [
      "Perhaps we want to override the point-wise cross-section data in the library for the elastic scattering cross-section in U-235 and replace it with a 1-group cross-section. This can easily be done by initializing NumPy arrays for the group energy bounds and the multi-group cross-section(s), and by importing the arrays into the Isotope using the **setMultigroupElasticXS(...)** routine:"
     ]
    },
    {
     "cell_type": "code",
     "collapsed": false,
     "input": [
      "# Create array with group energy bounds\n",
      "xs_energies = numpy.array([1E-7, 2E7])\n",
      "\n",
      "# Create array with cross-section\n",
      "xs = numpy.array([11.4])\n",
      "\n",
      "# Import cross-section into the isotope and reaction type of interest\n",
      "u235.setMultigroupElasticXS(xs_energies, xs)"
     ],
     "language": "python",
     "metadata": {},
     "outputs": []
    },
    {
     "cell_type": "markdown",
     "metadata": {},
     "source": [
      "Note that we can do this for any or all isotopes and / or reaction rates with the corresponding \"setter\" methods (e.g, **setMultiGroupCaptureXS(...)**)."
     ]
    },
    {
     "cell_type": "markdown",
     "metadata": {},
     "source": [
      "Finally, perhaps we wish to plot the microscopic cross-sections for one of our Isotopes. The first step is to import the **pinspec.plotter** module into our Python environment:"
     ]
    },
    {
     "cell_type": "code",
     "collapsed": false,
     "input": [
      "import pinspec.plotter as plotter"
     ],
     "language": "python",
     "metadata": {},
     "outputs": []
    },
    {
     "cell_type": "markdown",
     "metadata": {},
     "source": [
      "Next, we can call the **plotMicroXS(...)** routine with one of the Isotopes and a Python list of the reaction rates we wish to plot. For example, the following will plot the capture cross-section for U-238:"
     ]
    },
    {
     "cell_type": "code",
     "collapsed": false,
     "input": [
      "plotter.plotMicroXS(u235, ['capture'])"
     ],
     "language": "python",
     "metadata": {},
     "outputs": []
    },
    {
     "cell_type": "markdown",
     "metadata": {},
     "source": [
      "We could likewise have plotted the capture, fission and elastic scattering cross-sections for U-238, all on one plot:"
     ]
    },
    {
     "cell_type": "code",
     "collapsed": false,
     "input": [
      "plotter.plotMicroXS(u235, ['capture', 'fission', 'elastic'])"
     ],
     "language": "python",
     "metadata": {},
     "outputs": []
    },
    {
     "cell_type": "markdown",
     "metadata": {},
     "source": [
      "Furthermore, if we want to plot the thermal scattering distributions, we can use the **plotThermalScattering(...)** routine in the **pinspec.plotter** module. This will plot both the Probability Distribution Functions (PDFs) and Cumulative Distribution Functions (CDFs) at various incoming neutron energies. These distributions are created and used to sample the outgoing energy in elastic scattering collisions at thermal energies (*i.e.*, below 4 eV). <br/>\n",
      "\n",
      "Now, let's use **plotThermalScattering(...)** to plot the PDFs and CDFs for C-12:"
     ]
    },
    {
     "cell_type": "code",
     "collapsed": false,
     "input": [
      "plotter.plotThermalScattering(c12, uselegend=False)"
     ],
     "language": "python",
     "metadata": {},
     "outputs": []
    },
    {
     "cell_type": "markdown",
     "metadata": {},
     "source": [
      "Finally, let's not that the plots that are generated by PINSPEC are automatically stored to a file in the output directory. Let's use **ls** to inspect our present working directory:"
     ]
    },
    {
     "cell_type": "code",
     "collapsed": false,
     "input": [
      "ls"
     ],
     "language": "python",
     "metadata": {},
     "outputs": []
    },
    {
     "cell_type": "markdown",
     "metadata": {},
     "source": [
      "Let's enter the **2-Isotopes/plots** directory for this IPython Notebook:"
     ]
    },
    {
     "cell_type": "code",
     "collapsed": false,
     "input": [
      "cd 2-Isotopes/plots"
     ],
     "language": "python",
     "metadata": {},
     "outputs": []
    },
    {
     "cell_type": "markdown",
     "metadata": {},
     "source": [
      "Now, let's load the stored image file into the Notebook using Matplotlib:"
     ]
    },
    {
     "cell_type": "code",
     "collapsed": false,
     "input": [
      "import matplotlib.pyplot as plt\n",
      "\n",
      "fig = plt.figure()\n",
      "\n",
      "plt.imshow(plt.imread('U-235-micro-xs.png'))"
     ],
     "language": "python",
     "metadata": {},
     "outputs": []
    },
    {
     "cell_type": "code",
     "collapsed": false,
     "input": [],
     "language": "python",
     "metadata": {},
     "outputs": []
    }
   ],
   "metadata": {}
  }
 ]
}